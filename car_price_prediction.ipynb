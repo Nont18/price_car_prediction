{
 "cells": [
  {
   "cell_type": "markdown",
   "metadata": {},
   "source": [
    "# My First Notebook"
   ]
  },
  {
   "cell_type": "markdown",
   "metadata": {},
   "source": [
    "There are some necessary libraries to import for making car price prediction."
   ]
  },
  {
   "cell_type": "code",
   "execution_count": 123,
   "metadata": {},
   "outputs": [],
   "source": [
    "import numpy as np\n",
    "import pandas as pd\n",
    "import seaborn as sns\n",
    "import matplotlib.pyplot as plt \n",
    "import warnings\n",
    "warnings.filterwarnings('ignore')"
   ]
  },
  {
   "cell_type": "markdown",
   "metadata": {},
   "source": [
    "# 1.Load the data"
   ]
  },
  {
   "cell_type": "markdown",
   "metadata": {},
   "source": [
    "First thing that we want to do is loading the data from CSV file. The amount of data is the input for the price prediction of the cars. "
   ]
  },
  {
   "cell_type": "code",
   "execution_count": 124,
   "metadata": {},
   "outputs": [],
   "source": [
    "# Load the dataset\n",
    "df = pd.read_csv('car_price_dataset.csv')"
   ]
  },
  {
   "cell_type": "code",
   "execution_count": 137,
   "metadata": {},
   "outputs": [
    {
     "name": "stdout",
     "output_type": "stream",
     "text": [
      "      name  year  selling_price  km_driven    fuel seller_type transmission  \\\n",
      "0   Maruti  2014         450000     145500  Diesel  Individual       Manual   \n",
      "1    Skoda  2014         370000     120000  Diesel  Individual       Manual   \n",
      "2    Honda  2006         158000     140000  Petrol  Individual       Manual   \n",
      "3  Hyundai  2010         225000     127000  Diesel  Individual       Manual   \n",
      "4   Maruti  2007         130000     120000  Petrol  Individual       Manual   \n",
      "\n",
      "          owner  mileage   engine   max_power  seats  log_selling_price  \n",
      "0   First Owner    23.40  1248 CC      74 bhp    5.0          13.017003  \n",
      "1  Second Owner    21.14  1498 CC  103.52 bhp    5.0          12.821258  \n",
      "2   Third Owner    17.70  1497 CC      78 bhp    5.0          11.970350  \n",
      "3   First Owner    23.00  1396 CC      90 bhp    5.0          12.323856  \n",
      "4   First Owner    16.10  1298 CC    88.2 bhp    5.0          11.775290  \n",
      "(8033, 13)\n"
     ]
    }
   ],
   "source": [
    "#Let's check the first five rows of the data\n",
    "print(df.head())\n",
    "print(df.shape)"
   ]
  },
  {
   "cell_type": "markdown",
   "metadata": {},
   "source": [
    "You can see a lot of the data so we will "
   ]
  },
  {
   "cell_type": "markdown",
   "metadata": {},
   "source": [
    "# 2. EDA"
   ]
  },
  {
   "cell_type": "code",
   "execution_count": 126,
   "metadata": {},
   "outputs": [
    {
     "name": "stdout",
     "output_type": "stream",
     "text": [
      "                           name  year  selling_price  km_driven    fuel  \\\n",
      "0        Maruti Swift Dzire VDI  2014         450000     145500  Diesel   \n",
      "1  Skoda Rapid 1.5 TDI Ambition  2014         370000     120000  Diesel   \n",
      "2      Honda City 2017-2020 EXi  2006         158000     140000  Petrol   \n",
      "3     Hyundai i20 Sportz Diesel  2010         225000     127000  Diesel   \n",
      "4        Maruti Swift VXI BSIII  2007         130000     120000  Petrol   \n",
      "\n",
      "  seller_type transmission         owner     mileage   engine   max_power  \\\n",
      "0  Individual       Manual   First Owner   23.4 kmpl  1248 CC      74 bhp   \n",
      "1  Individual       Manual  Second Owner  21.14 kmpl  1498 CC  103.52 bhp   \n",
      "2  Individual       Manual   Third Owner   17.7 kmpl  1497 CC      78 bhp   \n",
      "3  Individual       Manual   First Owner   23.0 kmpl  1396 CC      90 bhp   \n",
      "4  Individual       Manual   First Owner   16.1 kmpl  1298 CC    88.2 bhp   \n",
      "\n",
      "                     torque  seats  \n",
      "0            190Nm@ 2000rpm    5.0  \n",
      "1       250Nm@ 1500-2500rpm    5.0  \n",
      "2     12.7@ 2,700(kgm@ rpm)    5.0  \n",
      "3  22.4 kgm at 1750-2750rpm    5.0  \n",
      "4     11.5@ 4,500(kgm@ rpm)    5.0  \n"
     ]
    }
   ],
   "source": [
    "print(df.head())"
   ]
  },
  {
   "cell_type": "code",
   "execution_count": 127,
   "metadata": {},
   "outputs": [
    {
     "data": {
      "text/plain": [
       "array([0, 2, 4, 1, 3])"
      ]
     },
     "execution_count": 127,
     "metadata": {},
     "output_type": "execute_result"
    }
   ],
   "source": [
    "from sklearn.preprocessing import LabelEncoder\n",
    "\n",
    "le = LabelEncoder()\n",
    "df[\"owner\"] = le.fit_transform(df[\"owner\"])\n",
    "\n",
    "df[\"owner\"].unique()"
   ]
  },
  {
   "cell_type": "code",
   "execution_count": 128,
   "metadata": {},
   "outputs": [
    {
     "name": "stdout",
     "output_type": "stream",
     "text": [
      "0       1\n",
      "1       2\n",
      "2       3\n",
      "3       1\n",
      "4       1\n",
      "       ..\n",
      "8123    1\n",
      "8124    4\n",
      "8125    1\n",
      "8126    1\n",
      "8127    1\n",
      "Name: owner, Length: 8128, dtype: int64\n"
     ]
    }
   ],
   "source": [
    "from sklearn.preprocessing import LabelEncoder\n",
    "df = pd.read_csv('car_price_dataset.csv')\n",
    "owner_mapping = {'First Owner': 1, 'Second Owner': 2, 'Third Owner': 3, 'Fourth & Above Owner' : 4, 'Test Drive Car' : 5}\n",
    "le = LabelEncoder()\n",
    "\n",
    "\n",
    "print(df[\"owner\"].map(owner_mapping))"
   ]
  },
  {
   "cell_type": "code",
   "execution_count": 129,
   "metadata": {},
   "outputs": [],
   "source": [
    "# Remove rows with 'CNG' and 'LPG' in the 'fuel' column\n",
    "df = df[~df['fuel'].isin(['CNG', 'LPG'])]\n"
   ]
  },
  {
   "cell_type": "code",
   "execution_count": 130,
   "metadata": {},
   "outputs": [],
   "source": [
    "# Remove \"kmpl\" from 'mileage' column and convert to numerical type\n",
    "df['mileage'] = df['mileage'].str.split().str[0].astype(float)\n"
   ]
  },
  {
   "cell_type": "code",
   "execution_count": 131,
   "metadata": {},
   "outputs": [],
   "source": [
    "# Extract the first word from 'brand' column\n",
    "df['name'] = df['name'].str.split().str[0]\n"
   ]
  },
  {
   "cell_type": "code",
   "execution_count": 132,
   "metadata": {},
   "outputs": [],
   "source": [
    "# Drop the 'torque' feature\n",
    "df = df.drop('torque', axis=1)\n"
   ]
  },
  {
   "cell_type": "code",
   "execution_count": 135,
   "metadata": {},
   "outputs": [
    {
     "name": "stdout",
     "output_type": "stream",
     "text": [
      "<class 'pandas.core.frame.DataFrame'>\n",
      "Int64Index: 8033 entries, 0 to 8127\n",
      "Data columns (total 13 columns):\n",
      " #   Column             Non-Null Count  Dtype  \n",
      "---  ------             --------------  -----  \n",
      " 0   name               8033 non-null   object \n",
      " 1   year               8033 non-null   int64  \n",
      " 2   selling_price      8033 non-null   int64  \n",
      " 3   km_driven          8033 non-null   int64  \n",
      " 4   fuel               8033 non-null   object \n",
      " 5   seller_type        8033 non-null   object \n",
      " 6   transmission       8033 non-null   object \n",
      " 7   owner              8033 non-null   object \n",
      " 8   mileage            7819 non-null   float64\n",
      " 9   engine             7819 non-null   object \n",
      " 10  max_power          7825 non-null   object \n",
      " 11  seats              7819 non-null   float64\n",
      " 12  log_selling_price  8033 non-null   float64\n",
      "dtypes: float64(3), int64(3), object(7)\n",
      "memory usage: 878.6+ KB\n",
      "None\n",
      "(8033, 13)\n"
     ]
    }
   ],
   "source": [
    "df['log_selling_price'] = np.log(df['selling_price'])\n",
    "pred_y = np.log(df['selling_price'])\n",
    "pred_y = np.exp(pred_y)\n",
    "pred_y_original_scale = np.exp(pred_y)\n",
    "print(df.info())\n",
    "print(df.shape)"
   ]
  }
 ],
 "metadata": {
  "kernelspec": {
   "display_name": "Python 3",
   "language": "python",
   "name": "python3"
  },
  "language_info": {
   "codemirror_mode": {
    "name": "ipython",
    "version": 3
   },
   "file_extension": ".py",
   "mimetype": "text/x-python",
   "name": "python",
   "nbconvert_exporter": "python",
   "pygments_lexer": "ipython3",
   "version": "3.11.4"
  },
  "orig_nbformat": 4
 },
 "nbformat": 4,
 "nbformat_minor": 2
}
